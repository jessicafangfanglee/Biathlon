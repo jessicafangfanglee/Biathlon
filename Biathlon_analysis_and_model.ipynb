{
 "cells": [
  {
   "cell_type": "markdown",
   "metadata": {},
   "source": [
    "# Background"
   ]
  },
  {
   "cell_type": "markdown",
   "metadata": {},
   "source": [
    "Hans is the coach of the Swedish Women National Biathlon team that is currently training for the upcoming winter season. As he couldn’t travel with his team to Canada to join their training camp, he is facing the problem that some of the team members seem to be cheating on their agreed upon training schedule in order to ensure the athletes improve consistently leading up to the first competition. To track progress on their rifle shooting, the athletes have to write down their name on each target board. This week, Hans’s assistant sent him the scanned reports from Canada but many of them don’t have the names of the athletes on the target boards - now Hans can’t judge the progress of his team! He turns to you for help in building a classifier based on the named reports, that he can use to generate predictions for the reports without names. He keeps some reports with names as test data and, depending on the accuracy of your classifier on the test data, Hans will invite you to the world cup finale this winter.   Please send back a JSON file with the same format, where each empty name string is replaced with a name of a team member, as well as a jupyter notebook that contains documentation and explanation of your approach."
   ]
  },
  {
   "cell_type": "markdown",
   "metadata": {},
   "source": [
    "# Approach"
   ]
  },
  {
   "cell_type": "markdown",
   "metadata": {},
   "source": [
    "- Goal\n",
    "\n",
    "Develop a classifier model using accuracy as the model metric.\n",
    "- Data Provided\n",
    "\n",
    "  - `12traits_biathlon_data.json`"
   ]
  },
  {
   "cell_type": "markdown",
   "metadata": {},
   "source": [
    "# Exploratory Analysis"
   ]
  },
  {
   "cell_type": "markdown",
   "metadata": {},
   "source": [
    "## Housekepping"
   ]
  },
  {
   "cell_type": "code",
   "execution_count": 1,
   "metadata": {},
   "outputs": [],
   "source": [
    "import json\n",
    "import pandas as pd\n",
    "from sklearn.metrics.pairwise import euclidean_distances\n",
    "import numpy as np\n",
    "import turicreate as tc"
   ]
  },
  {
   "cell_type": "markdown",
   "metadata": {},
   "source": [
    "## Reading the Data"
   ]
  },
  {
   "cell_type": "code",
   "execution_count": 2,
   "metadata": {},
   "outputs": [],
   "source": [
    "with open('12traits_biathlon_data.json') as f:\n",
    "    data = json.load(f)\n",
    "data = data['silhouette_targets']"
   ]
  },
  {
   "cell_type": "markdown",
   "metadata": {},
   "source": [
    "Observations\n",
    "  - Variables: name, shooting_record (x,y coordinates on silhouette targets)\n",
    "  - Records are not assumed to be in chronological order (timestamp)\n",
    "\n",
    "Possible Approaches\n",
    "  - Identify features that can discriminate between the labels (team members)\n",
    "    - How many shots in a session\n",
    "    - How good the shooting is compared to team members (precision)\n",
    "    - Spread of the shooting\n",
    "    - Frequency of how often team members practice based on labeled data (might have to make assumptions about the likelihood of a team member probability of labeling his target)"
   ]
  },
  {
   "cell_type": "markdown",
   "metadata": {},
   "source": [
    "## Tidy the data"
   ]
  },
  {
   "cell_type": "code",
   "execution_count": 3,
   "metadata": {},
   "outputs": [],
   "source": [
    "def tranforming_variables(idx):\n",
    "    output = pd.DataFrame.from_dict(data[idx]['shots'])\n",
    "    output['name'] = data[idx]['name']\n",
    "    output['silhouette'] = idx\n",
    "    output = output[['silhouette','name','x','y']]\n",
    "    return output"
   ]
  },
  {
   "cell_type": "code",
   "execution_count": 4,
   "metadata": {},
   "outputs": [],
   "source": [
    "tidy_data = pd.concat([ tranforming_variables(idx) for idx in range(len(data)) ])"
   ]
  },
  {
   "cell_type": "code",
   "execution_count": 5,
   "metadata": {},
   "outputs": [
    {
     "data": {
      "text/plain": [
       "             5000\n",
       "Persson       173\n",
       "Berger        167\n",
       "Dahlmeier     160\n",
       "Name: name, dtype: int64"
      ]
     },
     "execution_count": 5,
     "metadata": {},
     "output_type": "execute_result"
    }
   ],
   "source": [
    "pd.DataFrame.from_dict({'name': [ record['name'] for record in data ]})['name'].value_counts()"
   ]
  },
  {
   "cell_type": "markdown",
   "metadata": {},
   "source": [
    "It seems all three members have about the same number of silhouette targets labeled. This could be suggestive that the assumption that the likelihood of not labeling a silhouette target is constant and equal for all team members.\n",
    "\n",
    "In order to measure the quality of a record we consider the following measures:\n",
    "  - Count (how many shots in the silhouette)\n",
    "  - Spread (norm of the pairwise Euclidean distance of the recorded shots)\n",
    "  - Precision (first two moment of the Euclidean distance from origin)"
   ]
  },
  {
   "cell_type": "markdown",
   "metadata": {},
   "source": [
    "## Engineer features from variables"
   ]
  },
  {
   "cell_type": "code",
   "execution_count": 6,
   "metadata": {},
   "outputs": [],
   "source": [
    "def features_engineering(df):\n",
    "    count = len(df)\n",
    "    distances = euclidean_distances(df[['x', 'y']].values, [[0, 0]])\n",
    "    mu        = distances.mean()\n",
    "    sigma     = distances.std()\n",
    "    spread    = np.linalg.norm(euclidean_distances(df[['x', 'y']].values))\n",
    "    output    = pd.DataFrame.from_dict({'silhouette': [df['silhouette'][0]],\n",
    "                                        'name': [df['name'][0]],\n",
    "                                        'count': [count],\n",
    "                                        'mu': [mu],\n",
    "                                        'sigma': [sigma],\n",
    "                                        'spread': [spread]\n",
    "                                       })[['silhouette',\n",
    "                                          'name',\n",
    "                                          'count',\n",
    "                                          'mu',\n",
    "                                          'sigma',\n",
    "                                          'spread']]\n",
    "    return output"
   ]
  },
  {
   "cell_type": "code",
   "execution_count": 7,
   "metadata": {},
   "outputs": [],
   "source": [
    "features = tc.SFrame(pd.concat(\n",
    "    [features_engineering(x[1]) for x in tidy_data.groupby(['silhouette'])]))"
   ]
  },
  {
   "cell_type": "markdown",
   "metadata": {},
   "source": [
    "# Modeling Stage"
   ]
  },
  {
   "cell_type": "markdown",
   "metadata": {},
   "source": [
    "## Generate the training and test sets"
   ]
  },
  {
   "cell_type": "markdown",
   "metadata": {},
   "source": [
    "Using cross-validation for the models."
   ]
  },
  {
   "cell_type": "code",
   "execution_count": 8,
   "metadata": {},
   "outputs": [],
   "source": [
    "train_set = features[features['name'] != '']\n",
    "test_set = features[features['name'] == '']"
   ]
  },
  {
   "cell_type": "markdown",
   "metadata": {},
   "source": [
    "## Explore basic classification models"
   ]
  },
  {
   "cell_type": "code",
   "execution_count": 9,
   "metadata": {},
   "outputs": [],
   "source": [
    "def training_and_validation_statistics(seed):\n",
    "    model_dt = tc.decision_tree_classifier.create(train_set,\n",
    "                                              target = 'name',\n",
    "                                              features = ['count','mu','sigma','spread'],\n",
    "                                              seed = seed,\n",
    "                                              metric = 'accuracy',\n",
    "                                              verbose = False)\n",
    "    model_rf = tc.random_forest_classifier.create(train_set,\n",
    "                                              target = 'name',\n",
    "                                              features = ['count','mu','sigma','spread'],\n",
    "                                              seed = seed,\n",
    "                                              metric = 'accuracy',\n",
    "                                              verbose = False)\n",
    "    model_bt = tc.boosted_trees_classifier.create(train_set,\n",
    "                                              target = 'name',\n",
    "                                              features = ['count','mu','sigma','spread'],\n",
    "                                              seed = seed,\n",
    "                                              metric = 'accuracy',\n",
    "                                              verbose = False)\n",
    "    output = pd.DataFrame.from_dict(\n",
    "        {'model': ['boosted trees','random forest','decision tree'],\n",
    "         'training_accuracy': [model_dt.training_accuracy,\n",
    "                               model_rf.training_accuracy,\n",
    "                               model_bt.training_accuracy],\n",
    "         'validation_accuracy': [model_dt.validation_accuracy,\n",
    "                                 model_rf.validation_accuracy,\n",
    "                                 model_bt.validation_accuracy]})\n",
    "    output['seed'] = seed\n",
    "    return output"
   ]
  },
  {
   "cell_type": "code",
   "execution_count": 10,
   "metadata": {},
   "outputs": [],
   "source": [
    "exploration = pd.concat([ training_and_validation_statistics(seed) for seed in range(20) ])"
   ]
  },
  {
   "cell_type": "code",
   "execution_count": 11,
   "metadata": {},
   "outputs": [
    {
     "data": {
      "text/html": [
       "<div>\n",
       "<style>\n",
       "    .dataframe thead tr:only-child th {\n",
       "        text-align: right;\n",
       "    }\n",
       "\n",
       "    .dataframe thead th {\n",
       "        text-align: left;\n",
       "    }\n",
       "\n",
       "    .dataframe tbody tr th {\n",
       "        vertical-align: top;\n",
       "    }\n",
       "</style>\n",
       "<table border=\"1\" class=\"dataframe\">\n",
       "  <thead>\n",
       "    <tr>\n",
       "      <th></th>\n",
       "      <th colspan=\"4\" halign=\"left\">training_accuracy</th>\n",
       "      <th colspan=\"4\" halign=\"left\">validation_accuracy</th>\n",
       "    </tr>\n",
       "    <tr>\n",
       "      <th></th>\n",
       "      <th>min</th>\n",
       "      <th>max</th>\n",
       "      <th>median</th>\n",
       "      <th>mean</th>\n",
       "      <th>min</th>\n",
       "      <th>max</th>\n",
       "      <th>median</th>\n",
       "      <th>mean</th>\n",
       "    </tr>\n",
       "    <tr>\n",
       "      <th>model</th>\n",
       "      <th></th>\n",
       "      <th></th>\n",
       "      <th></th>\n",
       "      <th></th>\n",
       "      <th></th>\n",
       "      <th></th>\n",
       "      <th></th>\n",
       "      <th></th>\n",
       "    </tr>\n",
       "  </thead>\n",
       "  <tbody>\n",
       "    <tr>\n",
       "      <th>boosted trees</th>\n",
       "      <td>0.853503</td>\n",
       "      <td>0.907950</td>\n",
       "      <td>0.892980</td>\n",
       "      <td>0.886254</td>\n",
       "      <td>0.576923</td>\n",
       "      <td>0.947368</td>\n",
       "      <td>0.787856</td>\n",
       "      <td>0.774719</td>\n",
       "    </tr>\n",
       "    <tr>\n",
       "      <th>decision tree</th>\n",
       "      <td>0.924528</td>\n",
       "      <td>0.952891</td>\n",
       "      <td>0.937636</td>\n",
       "      <td>0.938658</td>\n",
       "      <td>0.615385</td>\n",
       "      <td>0.956522</td>\n",
       "      <td>0.830460</td>\n",
       "      <td>0.789372</td>\n",
       "    </tr>\n",
       "    <tr>\n",
       "      <th>random forest</th>\n",
       "      <td>0.868365</td>\n",
       "      <td>0.903766</td>\n",
       "      <td>0.881300</td>\n",
       "      <td>0.882245</td>\n",
       "      <td>0.653846</td>\n",
       "      <td>0.916667</td>\n",
       "      <td>0.778070</td>\n",
       "      <td>0.781524</td>\n",
       "    </tr>\n",
       "  </tbody>\n",
       "</table>\n",
       "</div>"
      ],
      "text/plain": [
       "              training_accuracy                                \\\n",
       "                            min       max    median      mean   \n",
       "model                                                           \n",
       "boosted trees          0.853503  0.907950  0.892980  0.886254   \n",
       "decision tree          0.924528  0.952891  0.937636  0.938658   \n",
       "random forest          0.868365  0.903766  0.881300  0.882245   \n",
       "\n",
       "              validation_accuracy                                \n",
       "                              min       max    median      mean  \n",
       "model                                                            \n",
       "boosted trees            0.576923  0.947368  0.787856  0.774719  \n",
       "decision tree            0.615385  0.956522  0.830460  0.789372  \n",
       "random forest            0.653846  0.916667  0.778070  0.781524  "
      ]
     },
     "execution_count": 11,
     "metadata": {},
     "output_type": "execute_result"
    }
   ],
   "source": [
    "exploration[['model','training_accuracy','validation_accuracy']].groupby('model').agg(\n",
    "    ['min', 'max', 'median', 'mean'])"
   ]
  },
  {
   "cell_type": "markdown",
   "metadata": {},
   "source": [
    "It seems overall the decision tree is the best performant model."
   ]
  },
  {
   "cell_type": "markdown",
   "metadata": {},
   "source": [
    "# Prediction"
   ]
  },
  {
   "cell_type": "code",
   "execution_count": 12,
   "metadata": {},
   "outputs": [],
   "source": [
    "descision_tree = exploration[exploration['model'] == 'decision tree']\n",
    "seed = descision_tree['seed'][descision_tree['seed'] == descision_tree['seed'].max()]\n",
    "model = tc.decision_tree_classifier.create(train_set,\n",
    "                                           target = 'name',\n",
    "                                           features = ['count','mu','sigma','spread'],\n",
    "                                           seed = seed,\n",
    "                                           metric = 'accuracy',\n",
    "                                           verbose = False)"
   ]
  },
  {
   "cell_type": "code",
   "execution_count": 13,
   "metadata": {},
   "outputs": [],
   "source": [
    "predictions = model.classify(test_set)['class']"
   ]
  },
  {
   "cell_type": "code",
   "execution_count": 14,
   "metadata": {},
   "outputs": [],
   "source": [
    "with open('12traits_biathlon_data.json') as f:\n",
    "    output = json.load(f)"
   ]
  },
  {
   "cell_type": "code",
   "execution_count": 15,
   "metadata": {},
   "outputs": [],
   "source": [
    "offset = sum(1 for elem in output['silhouette_targets'] if elem['name'] != '')\n",
    "for idx in range(offset, len(output['silhouette_targets'])):\n",
    "    output['silhouette_targets'][idx]['name'] = predictions[idx - offset]"
   ]
  },
  {
   "cell_type": "code",
   "execution_count": 16,
   "metadata": {},
   "outputs": [],
   "source": [
    "with open('fangfang_lee.json', 'w') as outfile:\n",
    "    json.dump(output, outfile)"
   ]
  }
 ],
 "metadata": {
  "kernelspec": {
   "display_name": "Python 3",
   "language": "python",
   "name": "python3"
  },
  "language_info": {
   "codemirror_mode": {
    "name": "ipython",
    "version": 3
   },
   "file_extension": ".py",
   "mimetype": "text/x-python",
   "name": "python",
   "nbconvert_exporter": "python",
   "pygments_lexer": "ipython3",
   "version": "3.6.3"
  }
 },
 "nbformat": 4,
 "nbformat_minor": 2
}
